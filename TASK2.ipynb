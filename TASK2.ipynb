{
 "cells": [
  {
   "cell_type": "code",
   "execution_count": null,
   "id": "6b19b2f1",
   "metadata": {},
   "outputs": [],
   "source": [
    "import pandas as pd\n",
    "from sklearn.metrics.pairwise import cosine_similarity\n",
    "from sklearn.preprocessing import StandardScaler\n",
    "from sklearn.decomposition import PCA\n",
    "\n",
    "# Load customer and transaction data\n",
    "customers = pd.read_csv('Customers.csv')  # Assuming this file contains customer demographics\n",
    "transactions = pd.read_csv('Transactions.csv')  # Assuming this file contains transaction data\n",
    "\n",
    "# Preprocess customer data (encoding, scaling)\n",
    "customers_encoded = pd.get_dummies(customers[['Gender', 'Location']])  # Example of categorical encoding\n",
    "customers_data = pd.concat([customers[['Age']], customers_encoded], axis=1)\n",
    "\n",
    "# Preprocess transaction data\n",
    "# Aggregate transactions by customer\n",
    "transaction_summary = transactions.groupby('CustomerID').agg({\n",
    "    'Amount': 'sum',\n",
    "    'ProductID': 'nunique',  # Number of unique products bought\n",
    "}).reset_index()\n",
    "\n",
    "# Merge customer data with transaction data\n",
    "customer_profiles = pd.merge(customers_data, transaction_summary, on='CustomerID')\n",
    "\n",
    "# Standardize data (scaling)\n",
    "scaler = StandardScaler()\n",
    "scaled_profiles = scaler.fit_transform(customer_profiles.drop('CustomerID', axis=1))\n",
    "\n",
    "# Use PCA for dimensionality reduction (optional)\n",
    "pca = PCA(n_components=5)\n",
    "reduced_profiles = pca.fit_transform(scaled_profiles)\n",
    "\n",
    "# Calculate cosine similarity between customers\n",
    "similarities = cosine_similarity(reduced_profiles)\n",
    "\n",
    "# Get top 3 lookalikes for each customer (CustomerID: C0001 - C0020)\n",
    "top_lookalikes = {}\n",
    "for idx in range(20):  # Customer IDs C0001 - C0020 (indices 0-19)\n",
    "    similarities_idx = similarities[idx]\n",
    "    # Exclude the similarity of a customer to itself (similarity == 1)\n",
    "    similar_customers = [(i, similarities_idx[i]) for i in range(len(similarities_idx)) if i != idx]\n",
    "    # Sort based on similarity score and take top 3\n",
    "    similar_customers.sort(key=lambda x: x[1], reverse=True)\n",
    "    top_lookalikes[customers.iloc[idx]['CustomerID']] = [\n",
    "        {'CustomerID': customers.iloc[i[0]]['CustomerID'], 'Score': i[1]} for i in similar_customers[:3]\n",
    "    ]\n",
    "\n",
    "# Create Lookalike.csv\n",
    "lookalike_data = []\n",
    "for cust_id, lookalikes in top_lookalikes.items():\n",
    "    for lookalike in lookalikes:\n",
    "        lookalike_data.append([cust_id, lookalike['CustomerID'], lookalike['Score']])\n",
    "\n",
    "lookalike_df = pd.DataFrame(lookalike_data, columns=['CustomerID', 'LookalikeID', 'Score'])\n",
    "lookalike_df.to_csv('Lookalike.csv', index=False)\n"
   ]
  }
 ],
 "metadata": {
  "kernelspec": {
   "display_name": "Python 3 (ipykernel)",
   "language": "python",
   "name": "python3"
  },
  "language_info": {
   "codemirror_mode": {
    "name": "ipython",
    "version": 3
   },
   "file_extension": ".py",
   "mimetype": "text/x-python",
   "name": "python",
   "nbconvert_exporter": "python",
   "pygments_lexer": "ipython3",
   "version": "3.11.5"
  }
 },
 "nbformat": 4,
 "nbformat_minor": 5
}
